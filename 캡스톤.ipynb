{
 "cells": [
  {
   "cell_type": "code",
   "execution_count": 5,
   "id": "dddd3b45-62aa-41d2-a3ab-b98e739ee1de",
   "metadata": {},
   "outputs": [
    {
     "name": "stdout",
     "output_type": "stream",
     "text": [
      "Nearby Places: [('서울광장', 37.5656726042805, 126.977968926957), ('청계광장', 37.569074693516065, 126.97759212096156), ('청계천한빛광장', 37.5680487407066, 126.985067655744), ('세종로공원', 37.5736766421518, 126.975892728114), ('숭례문광장', 37.5598984799777, 126.975249777876), ('광화문원표공원', 37.568865479155, 126.976645884677), ('서소문역사공원', 37.56128103287903, 126.96937290180193), ('정동공원', 37.567650747545706, 126.97166469208234), ('청진공원', 37.5714032803741, 126.979896124362), ('세종문화회관 예술의정원', 37.5722227441159, 126.97520381645698)]\n"
     ]
    }
   ],
   "source": [
    "import requests\n",
    "\n",
    "KAKAO_API_KEY = 'api 키'\n",
    "\n",
    "def get_places_nearby(lat, lng, radius=1000, query='랜드마크'):\n",
    "    url = \"https://dapi.kakao.com/v2/local/search/keyword.json\"\n",
    "    headers = {\"Authorization\": f\"KakaoAK {KAKAO_API_KEY}\"}\n",
    "    params = {\n",
    "        \"query\": query,\n",
    "        \"y\": lat,\n",
    "        \"x\": lng,\n",
    "        \"radius\": radius,\n",
    "        \"size\": 10\n",
    "    }\n",
    "    \n",
    "    response = requests.get(url, headers=headers, params=params)\n",
    "    \n",
    "    if response.status_code == 200:\n",
    "        places = response.json().get('documents', [])\n",
    "        return [(place['place_name'], float(place['y']), float(place['x'])) for place in places]\n",
    "    else:\n",
    "        print(\"Error:\", response.status_code, response.text)\n",
    "        return []\n",
    "    \n",
    "user_lat, user_lng = 37.5665, 126.9780 \n",
    "\n",
    "places = get_places_nearby(user_lat, user_lng, query=\"공원\")\n",
    "print(\"Nearby Places:\", places)\n"
   ]
  },
  {
   "cell_type": "code",
   "execution_count": 7,
   "id": "56650f52-60bc-46ed-b7ba-e27fbf9aa1eb",
   "metadata": {},
   "outputs": [
    {
     "name": "stdout",
     "output_type": "stream",
     "text": [
      "Recommended Places: [array([ 37.5605, 126.9827]), array([ 37.5741, 126.984 ])]\n"
     ]
    }
   ],
   "source": [
    "from sklearn.neighbors import NearestNeighbors\n",
    "import numpy as np\n",
    "\n",
    "user_preferences = [\n",
    "    [37.5665, 126.9780],  \n",
    "    [37.5700, 126.9830],  \n",
    "    [37.5500, 126.9900], \n",
    "]\n",
    "\n",
    "candidate_places = np.array([\n",
    "    [37.5741, 126.9840],  \n",
    "    [37.5605, 126.9827], \n",
    "    [37.5582, 126.9875],  \n",
    "])\n",
    "\n",
    "knn = NearestNeighbors(n_neighbors=2, algorithm='ball_tree')\n",
    "knn.fit(user_preferences)\n",
    "\n",
    "distances, indices = knn.kneighbors(candidate_places)\n",
    "\n",
    "recommendations = [candidate_places[idx] for idx in indices[0]]\n",
    "print(\"Recommended Places:\", recommendations)"
   ]
  },
  {
   "cell_type": "code",
   "execution_count": 9,
   "id": "9f02f198-b161-473e-b9ea-094fa25aa7ca",
   "metadata": {},
   "outputs": [
    {
     "name": "stdout",
     "output_type": "stream",
     "text": [
      "Recommended Route:\n",
      "장소 이름: 호국동산, 위치: (36.357934364153, 128.702469266597)\n",
      "장소 이름: 구봉공원, 위치: (36.3476526647845, 128.691982261711)\n",
      "장소 이름: 의성키움어린이공원, 위치: (36.3501917686313, 128.702011018671)\n"
     ]
    }
   ],
   "source": [
    "def recommend_route(user_lat, user_lng):\n",
    "    \"\"\"\n",
    "    사용자의 위치와 주변 장소를 기반으로 추천 장소를 반환합니다.\n",
    "    - user_lat, user_lng: 사용자 위치 (위도, 경도)\n",
    "    - 반환값: 추천 장소 리스트 [(이름, 위도, 경도), ...]\n",
    "    \"\"\"\n",
    "    nearby_places = get_places_nearby(user_lat, user_lng, query=\"공원\")\n",
    "\n",
    "    user_preferences = np.array([\n",
    "        [36.353, 128.699],  \n",
    "        [36.355, 128.702],  \n",
    "        [36.350, 128.695],  \n",
    "    ])\n",
    "\n",
    "    candidate_places = np.array([[place[1], place[2]] for place in nearby_places])\n",
    "\n",
    "    if len(candidate_places) == 0:\n",
    "        print(\"근처에 추천할 장소가 없습니다.\")\n",
    "        return []\n",
    "\n",
    "    knn = NearestNeighbors(n_neighbors=1, algorithm='ball_tree')\n",
    "    knn.fit(user_preferences)\n",
    "\n",
    "    distances, indices = knn.kneighbors(candidate_places)\n",
    "\n",
    "    seen_places = set() \n",
    "    recommended_places = []\n",
    "\n",
    "    for idx in indices.flatten():\n",
    "        place = nearby_places[idx]\n",
    "        if place[0] not in seen_places:  \n",
    "            recommended_places.append(place)\n",
    "            seen_places.add(place[0])\n",
    "\n",
    "    return recommended_places\n",
    "\n",
    "user_lat, user_lng = 36.3524, 128.6976  \n",
    "recommended = recommend_route(user_lat, user_lng)\n",
    "\n",
    "print(\"Recommended Route:\")\n",
    "for place in recommended:\n",
    "    print(f\"장소 이름: {place[0]}, 위치: ({place[1]}, {place[2]})\")"
   ]
  },
  {
   "cell_type": "code",
   "execution_count": null,
   "id": "652b3a9e-6881-4baf-a535-15da7e849dab",
   "metadata": {},
   "outputs": [],
   "source": []
  }
 ],
 "metadata": {
  "kernelspec": {
   "display_name": "Python 3 (ipykernel)",
   "language": "python",
   "name": "python3"
  },
  "language_info": {
   "codemirror_mode": {
    "name": "ipython",
    "version": 3
   },
   "file_extension": ".py",
   "mimetype": "text/x-python",
   "name": "python",
   "nbconvert_exporter": "python",
   "pygments_lexer": "ipython3",
   "version": "3.12.7"
  }
 },
 "nbformat": 4,
 "nbformat_minor": 5
}
